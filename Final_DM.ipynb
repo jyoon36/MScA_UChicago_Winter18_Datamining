{
 "cells": [
  {
   "cell_type": "code",
   "execution_count": 14,
   "metadata": {},
   "outputs": [],
   "source": [
    "%matplotlib inline\n",
    "\n",
    "import numpy as np\n",
    "\n",
    "import pandas as pd\n",
    "import matplotlib.pyplot as plt\n",
    "from matplotlib.offsetbox import OffsetImage, AnnotationBbox\n",
    "import glob\n",
    "import os\n",
    "import sys\n",
    "from sklearn.decomposition import PCA\n",
    "from sklearn.preprocessing import StandardScaler\n",
    "from sklearn.ensemble import RandomForestClassifier\n",
    "from sklearn.tree import export_graphviz\n",
    "from sklearn.metrics import accuracy_score\n",
    "from sklearn import svm\n",
    "from sklearn.tree import DecisionTreeClassifier\n",
    "from sklearn.cluster import KMeans\n",
    "from sklearn.model_selection import GridSearchCV\n",
    "import cv2\n",
    "import time\n",
    "import pandas as pd \n",
    "from sklearn.tree import export_graphviz\n",
    "from sklearn.externals.six import StringIO \n",
    "import pydotplus\n",
    "from IPython.display import Image  "
   ]
  },
  {
   "cell_type": "markdown",
   "metadata": {},
   "source": [
    "### Load train and test images into np arrays"
   ]
  },
  {
   "cell_type": "code",
   "execution_count": 3,
   "metadata": {},
   "outputs": [
    {
     "name": "stdout",
     "output_type": "stream",
     "text": [
      "--- 0.006880998611450195 seconds ---\n"
     ]
    }
   ],
   "source": [
    "start_time = time.time()\n",
    "\n",
    "# appending all labels from data set\n",
    "labels_total = []\n",
    "img_dir=glob.glob('/Users/jun/UChicago/Winter 18/Data Mining/Final/fruits-360/Training/*')\n",
    "labels_total={d:i for i,d in enumerate(np.unique([label.split(\"/\")[-1] for label in img_dir]))}\n",
    "\n",
    "print(\"--- %s seconds ---\" % (time.time() - start_time))"
   ]
  },
  {
   "cell_type": "code",
   "execution_count": 4,
   "metadata": {},
   "outputs": [
    {
     "name": "stdout",
     "output_type": "stream",
     "text": [
      "the number of test images : 28736\n",
      "--- 17.766883850097656 seconds ---\n"
     ]
    }
   ],
   "source": [
    "start_time = time.time()\n",
    "\n",
    "# upload train data from local folder and separte them into two arrays(images, labels)\n",
    "images_train = []\n",
    "labels_train = []\n",
    "img_dir=glob.glob('/Users/jun/UChicago/Winter 18/Data Mining/Final/fruits-360/Training/*')\n",
    "\n",
    "for label in img_dir:\n",
    "    fruit_label = label.split(\"/\")[-1]\n",
    "    \n",
    "    for img_dir in glob.glob(os.path.join(label, \"*.jpg\")):\n",
    "        labels_train.append(labels_total[fruit_label])\n",
    "        image = cv2.imread(img_dir)\n",
    "        image = cv2.cvtColor(image,cv2.COLOR_BGR2RGB)\n",
    "        images_train.append(image.flatten())\n",
    "\n",
    "images_train = np.array(images_train)\n",
    "labels_train = np.array(labels_train)\n",
    "\n",
    "print(\"the number of test images : {}\".format(labels_train.shape[0]))\n",
    "print(\"--- %s seconds ---\" % (time.time() - start_time))"
   ]
  },
  {
   "cell_type": "code",
   "execution_count": 5,
   "metadata": {},
   "outputs": [
    {
     "data": {
      "text/plain": [
       "(28736, 30000)"
      ]
     },
     "execution_count": 5,
     "metadata": {},
     "output_type": "execute_result"
    }
   ],
   "source": [
    "images_train.shape"
   ]
  },
  {
   "cell_type": "code",
   "execution_count": 6,
   "metadata": {},
   "outputs": [
    {
     "name": "stdout",
     "output_type": "stream",
     "text": [
      "the number of test images : 9673\n",
      "--- 5.880757808685303 seconds ---\n"
     ]
    }
   ],
   "source": [
    "start_time = time.time()\n",
    "\n",
    "# upload test data from local folder and separte them into two arrays(images, labels)\n",
    "images_test = []\n",
    "labels_test = []\n",
    "img_dir2 = glob.glob('/Users/jun/UChicago/Winter 18/Data Mining/Final/fruits-360/Validation/*')\n",
    "\n",
    "for label in img_dir2:\n",
    "    fruit_label = label.split(\"/\")[-1]\n",
    "    \n",
    "    for img_dir2 in glob.glob(os.path.join(label, \"*.jpg\")):\n",
    "        labels_test.append(labels_total[fruit_label])\n",
    "        image = cv2.imread(img_dir2)\n",
    "        image = cv2.cvtColor(image,cv2.COLOR_BGR2RGB)\n",
    "        images_test.append(image.flatten())\n",
    "\n",
    "images_test = np.array(images_test)\n",
    "labels_test = np.array(labels_test)\n",
    "\n",
    "print(\"the number of test images : {}\".format(labels_test.shape[0]))\n",
    "print(\"--- %s seconds ---\" % (time.time() - start_time))"
   ]
  },
  {
   "cell_type": "markdown",
   "metadata": {},
   "source": [
    "### Run decision trees in multiple depth to find out the highest accuracy score"
   ]
  },
  {
   "cell_type": "code",
   "execution_count": 7,
   "metadata": {},
   "outputs": [
    {
     "name": "stdout",
     "output_type": "stream",
     "text": [
      "--- 6067.363837003708 seconds ---\n"
     ]
    }
   ],
   "source": [
    "start_time = time.time()\n",
    "\n",
    "# calculate accuracy score using different number of depth in Decision Tree\n",
    "tree_accuracy= []\n",
    "for i in range(30,50,2):\n",
    "    tree = DecisionTreeClassifier(max_depth=i)\n",
    "    tree_fit = tree.fit(images_train, labels_train)\n",
    "    pred = tree.predict(images_test)\n",
    "    tree_accuracy.append(accuracy_score(labels_test, pred))\n",
    "\n",
    "print(\"--- %s seconds ---\" % (time.time() - start_time))"
   ]
  },
  {
   "cell_type": "code",
   "execution_count": 25,
   "metadata": {
    "scrolled": true
   },
   "outputs": [
    {
     "name": "stdout",
     "output_type": "stream",
     "text": [
      "The highest accuracy score for Decision tree : 0.7778\n"
     ]
    },
    {
     "data": {
      "image/png": "[encoded data removed]",
      "text/plain": [
       "<matplotlib.figure.Figure at 0x184712e48>"
      ]
     },
     "metadata": {},
     "output_type": "display_data"
    }
   ],
   "source": [
    "plt.plot(range(30,50,2), tree_accuracy)\n",
    "plt.xlabel('# of depths')\n",
    "plt.ylabel(\"Accuracy Score\")\n",
    "\n",
    "print(\"The highest accuracy score for Decision tree : {:.4f}\".format(max(tree_accuracy)))"
   ]
  },
  {
   "cell_type": "markdown",
   "metadata": {},
   "source": [
    "depth = 48 gives the highest accuracy score"
   ]
  },
  {
   "cell_type": "markdown",
   "metadata": {},
   "source": [
    "##### Run Decision tree with optimal model and fit test images for accuracy score"
   ]
  },
  {
   "cell_type": "code",
   "execution_count": 9,
   "metadata": {},
   "outputs": [
    {
     "name": "stdout",
     "output_type": "stream",
     "text": [
      "Decision Tree accuracy score : 0.7769\n",
      "--- 618.9901418685913 seconds ---\n"
     ]
    }
   ],
   "source": [
    "start_time = time.time()\n",
    "\n",
    "tree_opt = DecisionTreeClassifier(max_depth=48)\n",
    "tree_opt_fit = tree_opt.fit(images_train, labels_train)\n",
    "tree_prediction = tree_opt.predict(images_test)\n",
    "tree_opt_accuracy = accuracy_score(labels_test,tree_prediction)\n",
    "\n",
    "print(\"Decision Tree accuracy score : {:.4f}\".format(tree_opt_accuracy))\n",
    "print(\"--- %s seconds ---\" % (time.time() - start_time))\n"
   ]
  },
  {
   "cell_type": "markdown",
   "metadata": {},
   "source": [
    "### Run Random Forest with different numbers of estimators to find the highest accuracy score on validation set"
   ]
  },
  {
   "cell_type": "code",
   "execution_count": 10,
   "metadata": {},
   "outputs": [
    {
     "name": "stdout",
     "output_type": "stream",
     "text": [
      "--- 1416.775928735733 seconds ---\n"
     ]
    }
   ],
   "source": [
    "start_time = time.time()\n",
    "\n",
    "# create RandomForest classifier\n",
    "test_accuracy_random = {}\n",
    "\n",
    "for i in range(10,200, 10):\n",
    "    forest = RandomForestClassifier(n_estimators=i, n_jobs=4, )\n",
    "    forest.fit(images_train, labels_train)\n",
    "    test_predict = forest.predict(images_test)\n",
    "    test_accuracy_random[i]=accuracy_score(labels_test, test_predict)\n",
    "    \n",
    "print(\"--- %s seconds ---\" % (time.time() - start_time))"
   ]
  },
  {
   "cell_type": "code",
   "execution_count": 95,
   "metadata": {},
   "outputs": [
    {
     "data": {
      "text/plain": [
       "Text(180,0.96,'(190,0.96)')"
      ]
     },
     "execution_count": 95,
     "metadata": {},
     "output_type": "execute_result"
    },
    {
     "data": {
      "image/png": "[encoded data removed]",
      "text/plain": [
       "<matplotlib.figure.Figure at 0x183502f98>"
      ]
     },
     "metadata": {},
     "output_type": "display_data"
    }
   ],
   "source": [
    "plt.plot(test_accuracy_random.keys(), test_accuracy_random.values())\n",
    "plt.xlabel(\"# of trees\")\n",
    "plt.ylabel(\"Accuracy Score\")\n",
    "plt.plot(190,max_rf,'.', markersize=8)\n",
    "plt.text(180,0.960,'(190,0.96)')"
   ]
  },
  {
   "cell_type": "code",
   "execution_count": 31,
   "metadata": {},
   "outputs": [
    {
     "name": "stdout",
     "output_type": "stream",
     "text": [
      "the highest accuracy score : 0.9630 \n",
      "the number of estimators : 190\n"
     ]
    }
   ],
   "source": [
    "max_rf = max(test_accuracy_random.values())\n",
    "print(\"the highest accuracy score : {:.4f} \".format(max_rf))\n",
    "print(\"the number of estimators : 190\")"
   ]
  },
  {
   "cell_type": "markdown",
   "metadata": {},
   "source": [
    "### Run PCA to reduce datset"
   ]
  },
  {
   "cell_type": "code",
   "execution_count": 67,
   "metadata": {},
   "outputs": [
    {
     "name": "stdout",
     "output_type": "stream",
     "text": [
      "--- 122.03192901611328 seconds ---\n"
     ]
    }
   ],
   "source": [
    "start_time = time.time()\n",
    "\n",
    "# create PCA classifier\n",
    "pca_clf = PCA(n_components = 200)\n",
    "pca_train = pca_clf.fit(images_train)\n",
    "\n",
    "\n",
    "print(\"--- %s seconds ---\" % (time.time() - start_time))"
   ]
  },
  {
   "cell_type": "code",
   "execution_count": 69,
   "metadata": {},
   "outputs": [
    {
     "name": "stdout",
     "output_type": "stream",
     "text": [
      "Total variance explained by 200 features : 0.9492\n",
      "Total variance explained by 100 features : 0.9207\n"
     ]
    },
    {
     "data": {
      "text/plain": [
       "[<matplotlib.lines.Line2D at 0x18445e630>]"
      ]
     },
     "execution_count": 69,
     "metadata": {},
     "output_type": "execute_result"
    },
    {
     "data": {
      "image/png": "[encoded data removed]",
      "text/plain": [
       "<matplotlib.figure.Figure at 0x1818542e8>"
      ]
     },
     "metadata": {},
     "output_type": "display_data"
    }
   ],
   "source": [
    "total_variance_train = sum(pca_train.explained_variance_ratio_)\n",
    "\n",
    "print(\"Total variance explained by 200 features : {:.4f}\".format(total_variance_train))\n",
    "print(\"Total variance explained by 100 features : {:.4f}\".format(sum(pca_train.explained_variance_ratio_[0:101])))\n",
    "\n",
    "# plot cumsum of explained variance\n",
    "plt.plot(np.cumsum(pca_train.explained_variance_ratio_))\n",
    "plt.xlabel('# of PC')\n",
    "plt.ylabel('% of Total Variance')\n",
    "plt.hlines(0.85,0,200,colors='r', label='85%')\n",
    "plt.text(101,sum(pca_train.explained_variance_ratio_[0:101]),'100 PCs')\n",
    "plt.plot(101,sum(pca_train.explained_variance_ratio_[0:101]),'.',markersize=10)"
   ]
  },
  {
   "cell_type": "code",
   "execution_count": 70,
   "metadata": {},
   "outputs": [
    {
     "name": "stdout",
     "output_type": "stream",
     "text": [
      "--- 107.23161792755127 seconds ---\n",
      "\n",
      "original dimension : (28736, 30000)\n",
      "transformed dimension : (28736, 100)\n"
     ]
    }
   ],
   "source": [
    "# transform original data with 6075 dimensions into 100 dimensions\n",
    "start_time = time.time()\n",
    "\n",
    "# create PCA classifier\n",
    "pca_clf = PCA(n_components = 100)\n",
    "pca_train = pca_clf.fit(images_train)\n",
    "pca_train_transform = pca_train.transform(images_train)\n",
    "print(\"--- %s seconds ---\\n\" % (time.time() - start_time))\n",
    "\n",
    "print(\"original dimension : {}\".format(images_train.shape))\n",
    "print(\"transformed dimension : {}\".format(pca_train_transform.shape))"
   ]
  },
  {
   "cell_type": "code",
   "execution_count": 73,
   "metadata": {},
   "outputs": [
    {
     "data": {
      "text/plain": [
       "0.920160349313879"
      ]
     },
     "execution_count": 73,
     "metadata": {},
     "output_type": "execute_result"
    }
   ],
   "source": [
    "sum(pca_train.explained_variance_ratio_)"
   ]
  },
  {
   "cell_type": "code",
   "execution_count": 74,
   "metadata": {},
   "outputs": [
    {
     "name": "stdout",
     "output_type": "stream",
     "text": [
      "--- 3.2997162342071533 seconds ---\n"
     ]
    }
   ],
   "source": [
    "start_time = time.time()\n",
    "\n",
    "# transform test images using PCA\n",
    "pca_test_transform = pca_train.transform(images_test)\n",
    "\n",
    "print(\"--- %s seconds ---\" % (time.time() - start_time))"
   ]
  },
  {
   "cell_type": "markdown",
   "metadata": {},
   "source": [
    "### Run Decision Trees using reduced dataset"
   ]
  },
  {
   "cell_type": "code",
   "execution_count": 78,
   "metadata": {},
   "outputs": [
    {
     "name": "stdout",
     "output_type": "stream",
     "text": [
      "--- 53.81926989555359 seconds ---\n"
     ]
    }
   ],
   "source": [
    "start_time = time.time()\n",
    "\n",
    "# calculate accuracy score using different number of depth in Decision Tree\n",
    "tree_accuracy_pca= []\n",
    "for i in range(30,50,2):\n",
    "    tree = DecisionTreeClassifier(max_depth=i)\n",
    "    tree_fit = tree.fit(pca_train_transform, labels_train)\n",
    "    pred = tree.predict(pca_test_transform)\n",
    "    tree_accuracy_pca.append(accuracy_score(labels_test, pred))\n",
    "\n",
    "print(\"--- %s seconds ---\" % (time.time() - start_time))"
   ]
  },
  {
   "cell_type": "code",
   "execution_count": 97,
   "metadata": {},
   "outputs": [
    {
     "name": "stdout",
     "output_type": "stream",
     "text": [
      "the highest accuracy score for Decision tree : 0.7305903029049933\n"
     ]
    },
    {
     "data": {
      "image/png": "[encoded data removed]",
      "text/plain": [
       "<matplotlib.figure.Figure at 0x18342db38>"
      ]
     },
     "metadata": {},
     "output_type": "display_data"
    }
   ],
   "source": [
    "plt.plot(range(30,50,2), tree_accuracy_pca)\n",
    "plt.xlabel('# of max depth')\n",
    "plt.ylabel('Accuracy Score')\n",
    "plt.plot(38, max(tree_accuracy_pca),'.', markersize=9)\n",
    "plt.text(38,max(tree_accuracy_pca),'(38,0.73)')\n",
    "\n",
    "print(\"the highest accuracy score for Decision tree : {}\".format(max(tree_accuracy_pca)))"
   ]
  },
  {
   "cell_type": "code",
   "execution_count": 98,
   "metadata": {},
   "outputs": [
    {
     "name": "stdout",
     "output_type": "stream",
     "text": [
      "Decision Tree accuracy score : 0.7133\n",
      "--- 5.754754066467285 seconds ---\n"
     ]
    }
   ],
   "source": [
    "start_time = time.time()\n",
    "\n",
    "tree_opt_pca = DecisionTreeClassifier(max_depth=38)\n",
    "tree_opt_fit_pca = tree_opt_pca.fit(pca_train_transform, labels_train)\n",
    "tree_prediction_pca = tree_opt_fit_pca.predict(pca_test_transform)\n",
    "tree_opt_accuracy_pca = accuracy_score(labels_test,tree_prediction_pca)\n",
    "\n",
    "print(\"Decision Tree accuracy score : {:.4f}\".format(tree_opt_accuracy_pca))\n",
    "print(\"--- %s seconds ---\" % (time.time() - start_time))\n"
   ]
  },
  {
   "cell_type": "markdown",
   "metadata": {},
   "source": [
    "### Run random forest using PCA dataset and plot accuracy score on validation set"
   ]
  },
  {
   "cell_type": "code",
   "execution_count": 99,
   "metadata": {},
   "outputs": [
    {
     "name": "stdout",
     "output_type": "stream",
     "text": [
      "--- 229.4860978126526 seconds ---\n"
     ]
    }
   ],
   "source": [
    "start_time = time.time()\n",
    "\n",
    "# create RandomForest classifier\n",
    "test_accuracy_random_pca = {}\n",
    "\n",
    "for i in range(10,200, 10):\n",
    "    forest = RandomForestClassifier(n_estimators=i, n_jobs=4, )\n",
    "    forest.fit(pca_train_transform, labels_train)\n",
    "    test_predict = forest.predict(pca_test_transform)\n",
    "    test_accuracy_random_pca[i]=accuracy_score(labels_test, test_predict)\n",
    "    \n",
    "print(\"--- %s seconds ---\" % (time.time() - start_time))"
   ]
  },
  {
   "cell_type": "code",
   "execution_count": 107,
   "metadata": {},
   "outputs": [
    {
     "data": {
      "text/plain": [
       "Text(150,0.915125,'(150,0.9151)')"
      ]
     },
     "execution_count": 107,
     "metadata": {},
     "output_type": "execute_result"
    },
    {
     "data": {
      "image/png": "[encoded data removed]",
      "text/plain": [
       "<matplotlib.figure.Figure at 0x183193240>"
      ]
     },
     "metadata": {},
     "output_type": "display_data"
    }
   ],
   "source": [
    "plt.plot(test_accuracy_random_pca.keys(), test_accuracy_random_pca.values())\n",
    "plt.xlabel(\"# of trees\")\n",
    "plt.ylabel(\"Accuracy Score\")\n",
    "plt.plot(150,max_rf_pca,'.', markersize=8)\n",
    "plt.text(150,max_rf_pca,'(150,0.9151)')"
   ]
  },
  {
   "cell_type": "code",
   "execution_count": 104,
   "metadata": {},
   "outputs": [
    {
     "name": "stdout",
     "output_type": "stream",
     "text": [
      "the highest accuracy score : 0.9151 \n",
      "the number of estimators : 150\n"
     ]
    }
   ],
   "source": [
    "max_rf_pca = max(test_accuracy_random_pca.values())\n",
    "print(\"the highest accuracy score : {:.4f} \".format(max_rf_pca))\n",
    "print(\"the number of estimators : 150\")"
   ]
  },
  {
   "cell_type": "markdown",
   "metadata": {},
   "source": [
    "### Run SVM using reduced dataset"
   ]
  },
  {
   "cell_type": "code",
   "execution_count": 108,
   "metadata": {},
   "outputs": [
    {
     "name": "stdout",
     "output_type": "stream",
     "text": [
      "--- 15265.390626192093 seconds ---\n"
     ]
    }
   ],
   "source": [
    "start_time = time.time()\n",
    "\n",
    "# run SVM using reduced dataset and rbf kernel function\n",
    "param_grid = {'C': [1e3, 5e3, 1e4, 5e4, 1e5],\n",
    "              'gamma': [0.0001, 0.0005, 0.001, 0.005, 0.01, 0.1] }\n",
    "svm_clf_2 = GridSearchCV(svm.SVC(kernel='rbf', class_weight='balanced'), param_grid)\n",
    "svm_train_2 = svm_clf_2.fit(pca_train_transform, labels_train)\n",
    "\n",
    "print(\"--- %s seconds ---\" % (time.time() - start_time))"
   ]
  },
  {
   "cell_type": "code",
   "execution_count": 109,
   "metadata": {},
   "outputs": [
    {
     "name": "stdout",
     "output_type": "stream",
     "text": [
      "Best estimator found by grid search:\n"
     ]
    },
    {
     "data": {
      "text/plain": [
       "SVC(C=1000.0, cache_size=200, class_weight='balanced', coef0=0.0,\n",
       "  decision_function_shape='ovr', degree=3, gamma=0.0001, kernel='rbf',\n",
       "  max_iter=-1, probability=False, random_state=None, shrinking=True,\n",
       "  tol=0.001, verbose=False)"
      ]
     },
     "execution_count": 109,
     "metadata": {},
     "output_type": "execute_result"
    }
   ],
   "source": [
    "print(\"Best estimator found by grid search:\")\n",
    "svm_clf_2.best_estimator_"
   ]
  },
  {
   "cell_type": "code",
   "execution_count": 110,
   "metadata": {},
   "outputs": [],
   "source": [
    "pca_test_transform = pca_train.transform(images_test)\n",
    "svm_pred_2 = svm_train_2.predict(pca_test_transform)"
   ]
  },
  {
   "cell_type": "code",
   "execution_count": 111,
   "metadata": {},
   "outputs": [
    {
     "data": {
      "text/plain": [
       "0.0632688927943761"
      ]
     },
     "execution_count": 111,
     "metadata": {},
     "output_type": "execute_result"
    }
   ],
   "source": [
    "accuracy_score(labels_test,svm_pred_2)"
   ]
  },
  {
   "cell_type": "code",
   "execution_count": 112,
   "metadata": {},
   "outputs": [
    {
     "data": {
      "text/plain": [
       "GridSearchCV(cv=None, error_score='raise',\n",
       "       estimator=SVC(C=1.0, cache_size=200, class_weight='balanced', coef0=0.0,\n",
       "  decision_function_shape='ovr', degree=3, gamma='auto', kernel='rbf',\n",
       "  max_iter=-1, probability=False, random_state=None, shrinking=True,\n",
       "  tol=0.001, verbose=False),\n",
       "       fit_params=None, iid=True, n_jobs=1,\n",
       "       param_grid={'C': [1000.0, 5000.0, 10000.0, 50000.0, 100000.0], 'gamma': [0.0001, 0.0005, 0.001, 0.005, 0.01, 0.1]},\n",
       "       pre_dispatch='2*n_jobs', refit=True, return_train_score='warn',\n",
       "       scoring=None, verbose=0)"
      ]
     },
     "execution_count": 112,
     "metadata": {},
     "output_type": "execute_result"
    }
   ],
   "source": [
    "svm_train_2"
   ]
  }
 ],
 "metadata": {
  "kernelspec": {
   "display_name": "Python 3",
   "language": "python",
   "name": "python3"
  },
  "language_info": {
   "codemirror_mode": {
    "name": "ipython",
    "version": 3
   },
   "file_extension": ".py",
   "mimetype": "text/x-python",
   "name": "python",
   "nbconvert_exporter": "python",
   "pygments_lexer": "ipython3",
   "version": "3.6.4"
  }
 },
 "nbformat": 4,
 "nbformat_minor": 2
}
