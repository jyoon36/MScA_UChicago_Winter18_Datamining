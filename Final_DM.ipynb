{
 "cells": [
  {
   "cell_type": "code",
   "execution_count": 15,
   "metadata": {},
   "outputs": [],
   "source": [
    "%matplotlib inline\n",
    "\n",
    "import numpy as np\n",
    "\n",
    "import pandas as pd\n",
    "import matplotlib.pyplot as plt\n",
    "from matplotlib.offsetbox import OffsetImage, AnnotationBbox\n",
    "import glob\n",
    "import os\n",
    "import sys\n",
    "from sklearn.decomposition import PCA\n",
    "from sklearn.preprocessing import StandardScaler\n",
    "from sklearn.ensemble import RandomForestClassifier\n",
    "from sklearn.tree import export_graphviz\n",
    "from sklearn.metrics import accuracy_score\n",
    "from sklearn import svm\n",
    "from sklearn.tree import DecisionTreeClassifier\n",
    "from sklearn.cluster import KMeans\n",
    "from sklearn.model_selection import GridSearchCV\n",
    "import cv2\n",
    "import time\n",
    "import pandas as pd \n"
   ]
  },
  {
   "cell_type": "markdown",
   "metadata": {},
   "source": [
    "### Load train and test images into np arrays"
   ]
  },
  {
   "cell_type": "code",
   "execution_count": 2,
   "metadata": {},
   "outputs": [
    {
     "name": "stdout",
     "output_type": "stream",
     "text": [
      "--- 0.007844686508178711 seconds ---\n"
     ]
    }
   ],
   "source": [
    "start_time = time.time()\n",
    "\n",
    "# appending all labels from data set\n",
    "labels_total = []\n",
    "img_dir=glob.glob('/Users/jun/UChicago/Winter 18/Data Mining/Final/fruits-360/Training/*')\n",
    "labels_total={d:i for i,d in enumerate(np.unique([label.split(\"/\")[-1] for label in img_dir]))}\n",
    "\n",
    "print(\"--- %s seconds ---\" % (time.time() - start_time))"
   ]
  },
  {
   "cell_type": "code",
   "execution_count": 3,
   "metadata": {},
   "outputs": [
    {
     "name": "stdout",
     "output_type": "stream",
     "text": [
      "the number of test images : 28736\n",
      "--- 21.74592423439026 seconds ---\n"
     ]
    }
   ],
   "source": [
    "start_time = time.time()\n",
    "\n",
    "# upload train data from local folder and separte them into two arrays(images, labels)\n",
    "images_train = []\n",
    "labels_train = []\n",
    "img_dir=glob.glob('/Users/jun/UChicago/Winter 18/Data Mining/Final/fruits-360/Training/*')\n",
    "\n",
    "for label in img_dir:\n",
    "    fruit_label = label.split(\"/\")[-1]\n",
    "    \n",
    "    for img_dir in glob.glob(os.path.join(label, \"*.jpg\")):\n",
    "        labels_train.append(labels_total[fruit_label])\n",
    "        image = cv2.imread(img_dir)\n",
    "        image = cv2.resize(image, (45,45))\n",
    "        image = cv2.cvtColor(image,cv2.COLOR_BGR2RGB)\n",
    "        images_train.append(image.flatten())\n",
    "\n",
    "images_train = np.array(images_train)\n",
    "labels_train = np.array(labels_train)\n",
    "\n",
    "print(\"the number of test images : {}\".format(labels_train.shape[0]))\n",
    "print(\"--- %s seconds ---\" % (time.time() - start_time))"
   ]
  },
  {
   "cell_type": "code",
   "execution_count": 8,
   "metadata": {},
   "outputs": [
    {
     "data": {
      "text/plain": [
       "(28736, 6075)"
      ]
     },
     "execution_count": 8,
     "metadata": {},
     "output_type": "execute_result"
    }
   ],
   "source": [
    "images_train.shape"
   ]
  },
  {
   "cell_type": "code",
   "execution_count": 4,
   "metadata": {},
   "outputs": [
    {
     "name": "stdout",
     "output_type": "stream",
     "text": [
      "the number of train images : 9673\n",
      "--- 7.272659778594971 seconds ---\n"
     ]
    }
   ],
   "source": [
    "start_time = time.time()\n",
    "\n",
    "# upload test data from local folder and separte them into two arrays(images, labels)\n",
    "images_test = []\n",
    "labels_test = []\n",
    "img_dir2 = glob.glob('/Users/jun/UChicago/Winter 18/Data Mining/Final/fruits-360/Validation/*')\n",
    "\n",
    "for label in img_dir2:\n",
    "    fruit_label = label.split(\"/\")[-1]\n",
    "    \n",
    "    for img_dir2 in glob.glob(os.path.join(label, \"*.jpg\")):\n",
    "        labels_test.append(labels_total[fruit_label])\n",
    "        image = cv2.imread(img_dir2)\n",
    "        image = cv2.resize(image, (45,45))\n",
    "        image = cv2.cvtColor(image,cv2.COLOR_BGR2RGB)\n",
    "        images_test.append(image.flatten())\n",
    "\n",
    "images_test = np.array(images_test)\n",
    "labels_test = np.array(labels_test)\n",
    "\n",
    "print(\"the number of train images : {}\".format(labels_test.shape[0]))\n",
    "print(\"--- %s seconds ---\" % (time.time() - start_time))"
   ]
  },
  {
   "cell_type": "markdown",
   "metadata": {},
   "source": [
    "### Run decision trees in multiple depth to find out the highest accuracy score"
   ]
  },
  {
   "cell_type": "code",
   "execution_count": 9,
   "metadata": {},
   "outputs": [
    {
     "name": "stdout",
     "output_type": "stream",
     "text": [
      "--- 416.7486340999603 seconds ---\n"
     ]
    }
   ],
   "source": [
    "start_time = time.time()\n",
    "\n",
    "# calculate accuracy score using different number of depth in Decision Tree\n",
    "tree_accuracy= []\n",
    "for i in range(30,50,5):\n",
    "    tree = DecisionTreeClassifier(max_depth=i)\n",
    "    tree_fit = tree.fit(images_train, labels_train)\n",
    "    pred = tree.predict(images_test)\n",
    "    tree_accuracy.append(accuracy_score(labels_test, pred))\n",
    "\n",
    "print(\"--- %s seconds ---\" % (time.time() - start_time))"
   ]
  },
  {
   "cell_type": "code",
   "execution_count": 28,
   "metadata": {
    "scrolled": true
   },
   "outputs": [
    {
     "name": "stdout",
     "output_type": "stream",
     "text": [
      "the highest accuracy score for Decision tree : 0.7885867879665047\n"
     ]
    },
    {
     "data": {
      "image/png": "[encoded data removed]",
      "text/plain": [
       "<matplotlib.figure.Figure at 0x11d7c6780>"
      ]
     },
     "metadata": {},
     "output_type": "display_data"
    }
   ],
   "source": [
    "plt.plot(range(30,50,5), tree_accuracy)\n",
    "\n",
    "print(\"the highest accuracy score for Decision tree : {}\".format(max(tree_accuracy)))"
   ]
  },
  {
   "cell_type": "markdown",
   "metadata": {},
   "source": [
    "depth = 30 gives the highest accuracy score"
   ]
  },
  {
   "cell_type": "markdown",
   "metadata": {},
   "source": [
    "##### Run Decision tree with optimal model and fit test images for accuracy score"
   ]
  },
  {
   "cell_type": "code",
   "execution_count": 30,
   "metadata": {},
   "outputs": [
    {
     "name": "stdout",
     "output_type": "stream",
     "text": [
      "Decision Tree accuracy score : 0.7812\n",
      "--- 103.20194101333618 seconds ---\n"
     ]
    }
   ],
   "source": [
    "start_time = time.time()\n",
    "\n",
    "tree_opt = DecisionTreeClassifier(max_depth=30)\n",
    "tree_opt_fit = tree_opt.fit(images_train, labels_train)\n",
    "tree_prediction = tree_opt.predict(images_test)\n",
    "tree_opt_accuracy = accuracy_score(labels_test,tree_prediction)\n",
    "\n",
    "print(\"Decision Tree accuracy score : {:.4f}\".format(tree_opt_accuracy))\n",
    "print(\"--- %s seconds ---\" % (time.time() - start_time))\n"
   ]
  },
  {
   "cell_type": "markdown",
   "metadata": {},
   "source": [
    "### Run Random Forest with different numbers of estimators to find the highest accuracy score"
   ]
  },
  {
   "cell_type": "code",
   "execution_count": 17,
   "metadata": {},
   "outputs": [
    {
     "name": "stdout",
     "output_type": "stream",
     "text": [
      "--- 518.1488790512085 seconds ---\n"
     ]
    }
   ],
   "source": [
    "start_time = time.time()\n",
    "\n",
    "# create RandomForest classifier\n",
    "test_accuracy_random = {}\n",
    "\n",
    "for i in range(10,200, 10):\n",
    "    forest = RandomForestClassifier(n_estimators=i, n_jobs=4, )\n",
    "    forest.fit(images_train, labels_train)\n",
    "    test_predict = forest.predict(images_test)\n",
    "    test_accuracy_random[i]=accuracy_score(labels_test, test_predict)\n",
    "    \n",
    "print(\"--- %s seconds ---\" % (time.time() - start_time))"
   ]
  },
  {
   "cell_type": "code",
   "execution_count": 18,
   "metadata": {},
   "outputs": [
    {
     "data": {
      "text/plain": [
       "[<matplotlib.lines.Line2D at 0x11df9ce80>]"
      ]
     },
     "execution_count": 18,
     "metadata": {},
     "output_type": "execute_result"
    },
    {
     "data": {
      "image/png": "[encoded data removed]",
      "text/plain": [
       "<matplotlib.figure.Figure at 0x11dfe1f98>"
      ]
     },
     "metadata": {},
     "output_type": "display_data"
    }
   ],
   "source": [
    "plt.plot(test_accuracy_random.keys(), test_accuracy_random.values())"
   ]
  },
  {
   "cell_type": "code",
   "execution_count": 27,
   "metadata": {},
   "outputs": [
    {
     "name": "stdout",
     "output_type": "stream",
     "text": [
      "the highest accuracy score : 0.9658844205520521 \n",
      "the number of estimators : 180\n"
     ]
    }
   ],
   "source": [
    "max_rf = max(test_accuracy_random.values())\n",
    "print(\"the highest accuracy score : {} \".format(max_rf))\n",
    "print(\"the number of estimators : 180\")"
   ]
  },
  {
   "cell_type": "markdown",
   "metadata": {},
   "source": [
    "### Run PCA and use SVM to classify"
   ]
  },
  {
   "cell_type": "code",
   "execution_count": 5,
   "metadata": {},
   "outputs": [
    {
     "name": "stdout",
     "output_type": "stream",
     "text": [
      "--- 13.667150020599365 seconds ---\n"
     ]
    }
   ],
   "source": [
    "start_time = time.time()\n",
    "\n",
    "# create PCA classifier\n",
    "pca_clf = PCA(n_components = 150)\n",
    "pca_train = pca_clf.fit(images_train)\n",
    "\n",
    "\n",
    "print(\"--- %s seconds ---\" % (time.time() - start_time))"
   ]
  },
  {
   "cell_type": "code",
   "execution_count": 6,
   "metadata": {},
   "outputs": [
    {
     "name": "stdout",
     "output_type": "stream",
     "text": [
      "Total variance explained by 150 features : 0.95\n"
     ]
    }
   ],
   "source": [
    "total_variance_train = sum(pca_train.explained_variance_ratio_)\n",
    "\n",
    "print(\"Total variance explained by 150 features : {:.2f}\".format(total_variance_train))"
   ]
  },
  {
   "cell_type": "code",
   "execution_count": 7,
   "metadata": {},
   "outputs": [
    {
     "name": "stdout",
     "output_type": "stream",
     "text": [
      "original dimension : (28736, 6075)\n",
      "transformed dimension : (28736, 150)\n"
     ]
    }
   ],
   "source": [
    "# transform original data with 6075 dimensions into 150 dimensions\n",
    "pca_train_transform = pca_train.transform(images_train)\n",
    "print(\"original dimension : {}\".format(images_train.shape))\n",
    "print(\"transformed dimension : {}\".format(pca_train_transform.shape))"
   ]
  },
  {
   "cell_type": "code",
   "execution_count": null,
   "metadata": {},
   "outputs": [],
   "source": [
    "start_time = time.time()\n",
    "\n",
    "# run SVM using reduced dataset and rbf kernel function\n",
    "param_grid = {'C': [1e3, 5e3, 1e4, 5e4, 1e5],\n",
    "              'gamma': [0.0001, 0.0005, 0.001, 0.005, 0.01, 0.1] }\n",
    "svm_clf_2 = GridSearchCV(svm.SVC(kernel='rbf', class_weight='balanced'), param_grid)\n",
    "svm_train_2 = svm_clf_2.fit(pca_train_transform, labels_train)\n",
    "\n",
    "print(\"--- %s seconds ---\" % (time.time() - start_time))"
   ]
  },
  {
   "cell_type": "code",
   "execution_count": 8,
   "metadata": {},
   "outputs": [
    {
     "name": "stdout",
     "output_type": "stream",
     "text": [
      "--- 249.9545440673828 seconds ---\n"
     ]
    }
   ],
   "source": [
    "start_time = time.time()\n",
    "\n",
    "# run SVM using reduced dataset and rbf kernel function\n",
    "svm_clf = svm.SVC(kernel='rbf')\n",
    "svm_train = svm_clf.fit(pca_train_transform, labels_train)\n",
    "\n",
    "print(\"--- %s seconds ---\" % (time.time() - start_time))"
   ]
  },
  {
   "cell_type": "code",
   "execution_count": 9,
   "metadata": {},
   "outputs": [
    {
     "name": "stdout",
     "output_type": "stream",
     "text": [
      "--- 63.346153020858765 seconds ---\n"
     ]
    }
   ],
   "source": [
    "start_time = time.time()\n",
    "\n",
    "# transform test images using PCA\n",
    "pca_test_transform = pca_train.transform(images_test)\n",
    "\n",
    "# predict using svm and reduced test images\n",
    "svm_pred = svm_train.predict(pca_test_transform)\n",
    "\n",
    "print(\"--- %s seconds ---\" % (time.time() - start_time))"
   ]
  },
  {
   "cell_type": "code",
   "execution_count": 11,
   "metadata": {},
   "outputs": [
    {
     "name": "stdout",
     "output_type": "stream",
     "text": [
      "svm accuracy score : 0.0210896309314587\n"
     ]
    }
   ],
   "source": [
    "svm_accuracy = accuracy_score(labels_test, svm_pred)\n",
    "\n",
    "print(\"svm accuracy score : {}\".format(svm_accuracy))"
   ]
  },
  {
   "cell_type": "code",
   "execution_count": null,
   "metadata": {},
   "outputs": [],
   "source": []
  }
 ],
 "metadata": {
  "kernelspec": {
   "display_name": "Python 3",
   "language": "python",
   "name": "python3"
  },
  "language_info": {
   "codemirror_mode": {
    "name": "ipython",
    "version": 3
   },
   "file_extension": ".py",
   "mimetype": "text/x-python",
   "name": "python",
   "nbconvert_exporter": "python",
   "pygments_lexer": "ipython3",
   "version": "3.6.4"
  }
 },
 "nbformat": 4,
 "nbformat_minor": 2
}
